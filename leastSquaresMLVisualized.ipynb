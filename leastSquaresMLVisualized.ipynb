{
 "cells": [
  {
   "cell_type": "code",
   "execution_count": 6,
   "id": "d5277066",
   "metadata": {},
   "outputs": [],
   "source": [
    "import pandas as pd\n",
    "import numpy as np\n",
    "import matplotlib.pyplot as plt"
   ]
  },
  {
   "cell_type": "code",
   "execution_count": 23,
   "id": "dd82f068",
   "metadata": {},
   "outputs": [
    {
     "name": "stdout",
     "output_type": "stream",
     "text": [
      "Found Regression Line: Y =  0.1132911392405063  +  0.08164556962025317 *x\n"
     ]
    },
    {
     "data": {
      "image/png": "[encoded data removed]",
      "text/plain": [
       "<Figure size 432x288 with 1 Axes>"
      ]
     },
     "metadata": {
      "needs_background": "light"
     },
     "output_type": "display_data"
    },
    {
     "name": "stdout",
     "output_type": "stream",
     "text": [
      "Classifier 1: 3.9179206201550394\n",
      "Classifier 2: 3.935655813953489\n",
      "Classifier 3: 3.9778871317829463\n"
     ]
    }
   ],
   "source": [
    "def visualize(trainingSet, slopeM, interceptB):\n",
    "    plt.scatter(x=trainingSet.X, y=trainingSet.Y)\n",
    "    ablineValues = [slopeM * i + interceptB for i in range(0, 15)]\n",
    "    plt.plot(ablineValues)\n",
    "    plt.show()\n",
    "    pass\n",
    "\n",
    "def getData(X, Y):\n",
    "    # data training set, dataFrame of X and Y values\n",
    "    data = np.stack((X, Y), axis=-1)\n",
    "    trainSet = pd.DataFrame(data, columns=[\"X\", \"Y\"])\n",
    "    return trainSet\n",
    "\n",
    "# returns dot product of the dataFrame but it is 1D data?\n",
    "def dotProd(input):\n",
    "    return np.dot(input.X, input.Y)\n",
    "\n",
    "# returns square of X values\n",
    "def xSquared(trainSet):\n",
    "    #print(sum(trainSet.X * trainSet.X))\n",
    "    return sum(trainSet.X * trainSet.X)\n",
    "\n",
    "# least squares regression -- not sure if this is the correct implementation but we get a line?\n",
    "def leastSquaresRegression(sumX, sumXSquared, sumY, dotProdXY, n):\n",
    "    slope = (n * dotProdXY - sumX * sumY) / (n * sumXSquared - sumX * sumX)\n",
    "    # xMean = int(sumX / n)\n",
    "    # yMean = int(sumY / n)\n",
    "    intercept = (sumY - slope * sumX) / n\n",
    "    # a = yMean - b * xMean\n",
    "    print(\"Found Regression Line: Y = \", intercept, \" + \", slope, \"*x\")\n",
    "    # the above values were reversed.\n",
    "    return slope, intercept\n",
    "\n",
    "# Determines our classifier position\n",
    "def classifierval(y, classint, classslope):\n",
    "        return (y - classint)/classslope\n",
    "\n",
    "if __name__ == \"__main__\":\n",
    "    # Need to use these from professor:\n",
    "    X = [1, 2, 3, 4, 5, 10, 11, 12, 13]\n",
    "    Y = [0, 0, 0, 1, 1, 1, 1, 1, 1]\n",
    "\n",
    "    trainSet = getData(X, Y)\n",
    "    n = len(trainSet.X)\n",
    "    # initialize variables for slope and intercept\n",
    "    sumX = sum(trainSet.X)\n",
    "    sumXSquared = xSquared(trainSet)\n",
    "    sumY = sum(trainSet.Y)\n",
    "    dotProdXY = dotProd(trainSet)\n",
    "    m, b = leastSquaresRegression(sumX, sumXSquared, sumY, dotProdXY, n)\n",
    "    visualize(trainSet, m, b)\n",
    "    \n",
    "    # figure out our classifier position on the regression slope with these y values\n",
    "    cl1 = classifierval(0.433172, b, m)\n",
    "    cl2 = classifierval(0.43462, b, m)\n",
    "    cl3 = classifierval(0.438068, b, m)\n",
    "    print(\"Classifier 1:\", cl1)\n",
    "    print(\"Classifier 2:\", cl2)\n",
    "    print(\"Classifier 3:\", cl3)\n"
   ]
  },
  {
   "cell_type": "code",
   "execution_count": 24,
   "id": "a8c61e64",
   "metadata": {},
   "outputs": [
    {
     "data": {
      "image/png": "[encoded data removed]",
      "text/plain": [
       "<Figure size 432x288 with 1 Axes>"
      ]
     },
     "metadata": {
      "needs_background": "light"
     },
     "output_type": "display_data"
    }
   ],
   "source": [
    "# Prints graph with classifier \n",
    "def visualize2(trainingSet, slopeM, interceptB, classifier):\n",
    "    plt.scatter(x=trainingSet.X, y=trainingSet.Y)\n",
    "    plt.axvline(x = classifier)\n",
    "    plt.show()\n",
    "visualize2(trainSet, m, b, cl1)"
   ]
  },
  {
   "cell_type": "code",
   "execution_count": 25,
   "id": "600e3053",
   "metadata": {},
   "outputs": [
    {
     "data": {
      "image/png": "[encoded data removed]",
      "text/plain": [
       "<Figure size 432x288 with 1 Axes>"
      ]
     },
     "metadata": {
      "needs_background": "light"
     },
     "output_type": "display_data"
    }
   ],
   "source": [
    "# Prints graph with classifier \n",
    "visualize2(trainSet, m, b, cl2)"
   ]
  },
  {
   "cell_type": "code",
   "execution_count": 26,
   "id": "a495b304",
   "metadata": {},
   "outputs": [
    {
     "data": {
      "image/png": "[encoded data removed]",
      "text/plain": [
       "<Figure size 432x288 with 1 Axes>"
      ]
     },
     "metadata": {
      "needs_background": "light"
     },
     "output_type": "display_data"
    }
   ],
   "source": [
    "# Prints graph with classifier \n",
    "visualize2(trainSet, m, b, cl3)"
   ]
  },
  {
   "cell_type": "code",
   "execution_count": null,
   "id": "8d1a4cf5",
   "metadata": {},
   "outputs": [],
   "source": []
  }
 ],
 "metadata": {
  "kernelspec": {
   "display_name": "Python 3 (ipykernel)",
   "language": "python",
   "name": "python3"
  },
  "language_info": {
   "codemirror_mode": {
    "name": "ipython",
    "version": 3
   },
   "file_extension": ".py",
   "mimetype": "text/x-python",
   "name": "python",
   "nbconvert_exporter": "python",
   "pygments_lexer": "ipython3",
   "version": "3.9.7"
  }
 },
 "nbformat": 4,
 "nbformat_minor": 5
}
